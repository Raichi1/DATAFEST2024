{
 "cells": [
  {
   "cell_type": "code",
   "execution_count": 5,
   "metadata": {},
   "outputs": [],
   "source": [
    "from sklearn.cluster import KMeans\n",
    "# from category_encoders import OneHotEncoder\n",
    "import matplotlib.pyplot as plt\n",
    "import seaborn as sns\n",
    "import pandas as pd\n",
    "import numpy as np"
   ]
  },
  {
   "cell_type": "code",
   "execution_count": 6,
   "metadata": {},
   "outputs": [],
   "source": [
    "def tansform_date(date : str):\n",
    "    year = date[:4]\n",
    "    month = date[4:6]\n",
    "    day = date[6:]\n",
    "    return year + '-' + month + '-' + day"
   ]
  },
  {
   "cell_type": "code",
   "execution_count": 9,
   "metadata": {},
   "outputs": [],
   "source": [
    "df = pd.read_csv('../Caso Datafest/Datafest2024_Train.csv', index_col= False)"
   ]
  },
  {
   "cell_type": "code",
   "execution_count": 10,
   "metadata": {},
   "outputs": [
    {
     "name": "stdout",
     "output_type": "stream",
     "text": [
      "<class 'pandas.core.frame.DataFrame'>\n",
      "RangeIndex: 222600 entries, 0 to 222599\n",
      "Data columns (total 7 columns):\n",
      " #   Column             Non-Null Count   Dtype \n",
      "---  ------             --------------   ----- \n",
      " 0   fecha_transaccion  222600 non-null  int64 \n",
      " 1   codigo_cajero      222600 non-null  int64 \n",
      " 2   tipo_cajero        222600 non-null  object\n",
      " 3   saldo_inicial      222600 non-null  int64 \n",
      " 4   demanda            222600 non-null  int64 \n",
      " 5   abastecimiento     222600 non-null  int64 \n",
      " 6   saldo_final        222600 non-null  int64 \n",
      "dtypes: int64(6), object(1)\n",
      "memory usage: 11.9+ MB\n"
     ]
    }
   ],
   "source": [
    "df.info()"
   ]
  },
  {
   "cell_type": "code",
   "execution_count": 11,
   "metadata": {},
   "outputs": [],
   "source": [
    "df['fecha_transaccion'] = df['fecha_transaccion'].astype('str')"
   ]
  },
  {
   "cell_type": "code",
   "execution_count": 12,
   "metadata": {},
   "outputs": [],
   "source": [
    "df['fecha_transaccion'] = df['fecha_transaccion'].apply(tansform_date)"
   ]
  },
  {
   "cell_type": "code",
   "execution_count": 13,
   "metadata": {},
   "outputs": [],
   "source": [
    "df['fecha_transaccion'] = pd.to_datetime(df['fecha_transaccion'])"
   ]
  },
  {
   "cell_type": "code",
   "execution_count": 14,
   "metadata": {},
   "outputs": [],
   "source": [
    "df_A = df[df['tipo_cajero'] == 'A'] "
   ]
  },
  {
   "cell_type": "code",
   "execution_count": 15,
   "metadata": {},
   "outputs": [],
   "source": [
    "df_B = df[df['tipo_cajero'] == 'B']"
   ]
  },
  {
   "cell_type": "code",
   "execution_count": 28,
   "metadata": {},
   "outputs": [
    {
     "name": "stderr",
     "output_type": "stream",
     "text": [
      "C:\\Users\\HP\\AppData\\Local\\Temp\\ipykernel_16256\\3473919115.py:1: SettingWithCopyWarning: \n",
      "A value is trying to be set on a copy of a slice from a DataFrame\n",
      "\n",
      "See the caveats in the documentation: https://pandas.pydata.org/pandas-docs/stable/user_guide/indexing.html#returning-a-view-versus-a-copy\n",
      "  df_A.drop(columns = ['tipo_cajero'], inplace = True)\n"
     ]
    }
   ],
   "source": [
    "df_A.drop(columns = ['tipo_cajero'], inplace = True)"
   ]
  },
  {
   "cell_type": "code",
   "execution_count": 30,
   "metadata": {},
   "outputs": [
    {
     "name": "stderr",
     "output_type": "stream",
     "text": [
      "C:\\Users\\HP\\AppData\\Local\\Temp\\ipykernel_16256\\3212927539.py:1: SettingWithCopyWarning: \n",
      "A value is trying to be set on a copy of a slice from a DataFrame\n",
      "\n",
      "See the caveats in the documentation: https://pandas.pydata.org/pandas-docs/stable/user_guide/indexing.html#returning-a-view-versus-a-copy\n",
      "  df_B.drop(columns= ['tipo_cajero'], inplace = True)\n"
     ]
    }
   ],
   "source": [
    "df_B.drop(columns= ['tipo_cajero'], inplace = True)"
   ]
  },
  {
   "cell_type": "code",
   "execution_count": 31,
   "metadata": {},
   "outputs": [
    {
     "data": {
      "text/plain": [
       "399"
      ]
     },
     "execution_count": 31,
     "metadata": {},
     "output_type": "execute_result"
    }
   ],
   "source": [
    "len(df_A.codigo_cajero.unique())"
   ]
  },
  {
   "cell_type": "code",
   "execution_count": 32,
   "metadata": {},
   "outputs": [
    {
     "data": {
      "text/plain": [
       "301"
      ]
     },
     "execution_count": 32,
     "metadata": {},
     "output_type": "execute_result"
    }
   ],
   "source": [
    "len(df_B.codigo_cajero.unique())"
   ]
  },
  {
   "cell_type": "code",
   "execution_count": 35,
   "metadata": {},
   "outputs": [
    {
     "name": "stderr",
     "output_type": "stream",
     "text": [
      "C:\\Users\\HP\\AppData\\Local\\Temp\\ipykernel_16256\\4015422829.py:1: SettingWithCopyWarning: \n",
      "A value is trying to be set on a copy of a slice from a DataFrame.\n",
      "Try using .loc[row_indexer,col_indexer] = value instead\n",
      "\n",
      "See the caveats in the documentation: https://pandas.pydata.org/pandas-docs/stable/user_guide/indexing.html#returning-a-view-versus-a-copy\n",
      "  df_A['fecha_transaccion'] = df_A['fecha_transaccion'].astype('str')\n"
     ]
    }
   ],
   "source": [
    "df_A['fecha_transaccion'] = df_A['fecha_transaccion'].astype('str')"
   ]
  },
  {
   "cell_type": "code",
   "execution_count": 36,
   "metadata": {},
   "outputs": [
    {
     "name": "stderr",
     "output_type": "stream",
     "text": [
      "C:\\Users\\HP\\AppData\\Local\\Temp\\ipykernel_16256\\163391746.py:1: SettingWithCopyWarning: \n",
      "A value is trying to be set on a copy of a slice from a DataFrame.\n",
      "Try using .loc[row_indexer,col_indexer] = value instead\n",
      "\n",
      "See the caveats in the documentation: https://pandas.pydata.org/pandas-docs/stable/user_guide/indexing.html#returning-a-view-versus-a-copy\n",
      "  df_A['fecha_transaccion'] = df_A['fecha_transaccion'].apply(tansform_date)\n"
     ]
    }
   ],
   "source": [
    "df_A['fecha_transaccion'] = df_A['fecha_transaccion'].apply(tansform_date)"
   ]
  },
  {
   "cell_type": "code",
   "execution_count": 37,
   "metadata": {},
   "outputs": [
    {
     "name": "stderr",
     "output_type": "stream",
     "text": [
      "C:\\Users\\HP\\AppData\\Local\\Temp\\ipykernel_16256\\3928437481.py:1: SettingWithCopyWarning: \n",
      "A value is trying to be set on a copy of a slice from a DataFrame.\n",
      "Try using .loc[row_indexer,col_indexer] = value instead\n",
      "\n",
      "See the caveats in the documentation: https://pandas.pydata.org/pandas-docs/stable/user_guide/indexing.html#returning-a-view-versus-a-copy\n",
      "  df_A['fecha_transaccion'] = pd.to_datetime(df_A['fecha_transaccion'])\n"
     ]
    }
   ],
   "source": [
    "df_A['fecha_transaccion'] = pd.to_datetime(df_A['fecha_transaccion'])"
   ]
  },
  {
   "cell_type": "markdown",
   "metadata": {},
   "source": [
    "# df_B - to_datetime"
   ]
  },
  {
   "cell_type": "code",
   "execution_count": 41,
   "metadata": {},
   "outputs": [
    {
     "name": "stderr",
     "output_type": "stream",
     "text": [
      "C:\\Users\\HP\\AppData\\Local\\Temp\\ipykernel_16256\\1852760485.py:1: SettingWithCopyWarning: \n",
      "A value is trying to be set on a copy of a slice from a DataFrame.\n",
      "Try using .loc[row_indexer,col_indexer] = value instead\n",
      "\n",
      "See the caveats in the documentation: https://pandas.pydata.org/pandas-docs/stable/user_guide/indexing.html#returning-a-view-versus-a-copy\n",
      "  df_B['fecha_transaccion'] = df_B['fecha_transaccion'].astype('str')\n"
     ]
    }
   ],
   "source": [
    "df_B['fecha_transaccion'] = df_B['fecha_transaccion'].astype('str')"
   ]
  },
  {
   "cell_type": "code",
   "execution_count": 43,
   "metadata": {},
   "outputs": [
    {
     "name": "stderr",
     "output_type": "stream",
     "text": [
      "C:\\Users\\HP\\AppData\\Local\\Temp\\ipykernel_16256\\2915832882.py:1: SettingWithCopyWarning: \n",
      "A value is trying to be set on a copy of a slice from a DataFrame.\n",
      "Try using .loc[row_indexer,col_indexer] = value instead\n",
      "\n",
      "See the caveats in the documentation: https://pandas.pydata.org/pandas-docs/stable/user_guide/indexing.html#returning-a-view-versus-a-copy\n",
      "  df_B['fecha_transaccion'] = df_B['fecha_transaccion'].apply(tansform_date)\n"
     ]
    }
   ],
   "source": [
    "df_B['fecha_transaccion'] = df_B['fecha_transaccion'].apply(tansform_date)"
   ]
  },
  {
   "cell_type": "code",
   "execution_count": null,
   "metadata": {},
   "outputs": [],
   "source": [
    "df_B"
   ]
  },
  {
   "cell_type": "markdown",
   "metadata": {},
   "source": [
    "# Catboost"
   ]
  },
  {
   "cell_type": "code",
   "execution_count": 17,
   "metadata": {},
   "outputs": [
    {
     "name": "stderr",
     "output_type": "stream",
     "text": [
      "c:\\Users\\HP\\miniconda3\\envs\\Forecasting\\lib\\site-packages\\tqdm\\auto.py:21: TqdmWarning: IProgress not found. Please update jupyter and ipywidgets. See https://ipywidgets.readthedocs.io/en/stable/user_install.html\n",
      "  from .autonotebook import tqdm as notebook_tqdm\n"
     ]
    }
   ],
   "source": [
    "import random\n",
    "import pandas as pd\n",
    "import numpy as np\n",
    "from catboost import CatBoostRegressor\n",
    "from sklearn.metrics import mean_squared_error\n",
    "from sklearn.model_selection import train_test_split\n",
    "from statsmodels.tsa.arima_model import ARIMA\n",
    "from sklearn.compose import make_column_transformer, make_column_selector\n",
    "from sklearn.preprocessing import OneHotEncoder\n",
    "from skforecast.ForecasterAutoreg import ForecasterAutoreg\n",
    "from skforecast.model_selection import backtesting_forecaster\n",
    "from skforecast.model_selection import bayesian_search_forecaster\n",
    "from sklearn.metrics import mean_absolute_error"
   ]
  },
  {
   "cell_type": "code",
   "execution_count": 18,
   "metadata": {},
   "outputs": [],
   "source": [
    "df_castboost = df.copy()"
   ]
  },
  {
   "cell_type": "code",
   "execution_count": 19,
   "metadata": {},
   "outputs": [],
   "source": [
    "df_castboost['fecha_transaccion'] = pd.to_datetime(df_castboost['fecha_transaccion'])"
   ]
  },
  {
   "cell_type": "code",
   "execution_count": 20,
   "metadata": {},
   "outputs": [],
   "source": [
    "special_days = [15, 30]"
   ]
  },
  {
   "cell_type": "code",
   "execution_count": 21,
   "metadata": {},
   "outputs": [],
   "source": [
    "df_castboost['special_days'] = df_castboost.set_index('fecha_transaccion').index.day.isin(special_days)"
   ]
  },
  {
   "cell_type": "code",
   "execution_count": 22,
   "metadata": {},
   "outputs": [
    {
     "data": {
      "text/plain": [
       "(13300, 8)"
      ]
     },
     "execution_count": 22,
     "metadata": {},
     "output_type": "execute_result"
    }
   ],
   "source": [
    "df_castboost[df_castboost['special_days'] == True].shape"
   ]
  },
  {
   "cell_type": "code",
   "execution_count": 23,
   "metadata": {},
   "outputs": [],
   "source": [
    "df_castboost['special_days'] = df_castboost['special_days'].astype(int)"
   ]
  },
  {
   "cell_type": "code",
   "execution_count": 24,
   "metadata": {},
   "outputs": [],
   "source": [
    "df_castboost_A = df_castboost[df_castboost['tipo_cajero'] == 'A']\n",
    "df_castboost_B = df_castboost[df_castboost['tipo_cajero'] == 'B']"
   ]
  },
  {
   "cell_type": "code",
   "execution_count": 25,
   "metadata": {},
   "outputs": [],
   "source": [
    "df_castboost_A.set_index('fecha_transaccion', inplace= True)"
   ]
  },
  {
   "cell_type": "code",
   "execution_count": 26,
   "metadata": {},
   "outputs": [],
   "source": [
    "class Particle:\n",
    "    def __init__(self, bounds):\n",
    "        self.position = np.random.uniform(bounds[:, 0], bounds[:, 1])\n",
    "        self.velocity = np.random.uniform(-1, 1, size=len(bounds))\n",
    "        self.best_position = self.position.copy()\n",
    "        self.best_score = float('inf')\n",
    "\n",
    "class IGAPSOSA:\n",
    "    def __init__(self, objective_function, bounds, num_particles=30, max_iterations=100, w=0.5, c1=1.5, c2=1.5):\n",
    "        self.objective_function = objective_function\n",
    "        self.bounds = bounds\n",
    "        self.num_particles = num_particles\n",
    "        self.max_iterations = max_iterations\n",
    "        self.w = w\n",
    "        self.c1 = c1\n",
    "        self.c2 = c2\n",
    "\n",
    "    def optimize(self):\n",
    "        particles = [Particle(self.bounds) for _ in range(self.num_particles)]\n",
    "        global_best_position = None\n",
    "        global_best_score = float('inf')\n",
    "\n",
    "        for iteration in range(self.max_iterations):\n",
    "            for particle in particles:\n",
    "                score = self.objective_function(particle.position)\n",
    "\n",
    "                if score < particle.best_score:\n",
    "                    particle.best_score = score\n",
    "                    particle.best_position = particle.position.copy()\n",
    "\n",
    "                if score < global_best_score:\n",
    "                    global_best_score = score\n",
    "                    global_best_position = particle.position.copy()\n",
    "\n",
    "            for particle in particles:\n",
    "                r1, r2 = np.random.rand(2)\n",
    "                particle.velocity = (self.w * particle.velocity +\n",
    "                                     self.c1 * r1 * (particle.best_position - particle.position) +\n",
    "                                     self.c2 * r2 * (global_best_position - particle.position))\n",
    "                \n",
    "                particle.position += particle.velocity\n",
    "                particle.position = np.clip(particle.position, self.bounds[:, 0], self.bounds[:, 1])\n",
    "\n",
    "        return global_best_position, global_best_score"
   ]
  },
  {
   "cell_type": "code",
   "execution_count": 28,
   "metadata": {},
   "outputs": [],
   "source": [
    "def objective_function(params):\n",
    "    n_estimators = int(params[0])\n",
    "    max_depth = int(params[1])\n",
    "    learning_rate = params[2]\n",
    "\n",
    "    # forecaster = ForecasterAutoreg(\n",
    "    #     regressor = CatBoostRegressor(\n",
    "    #     random_state = 123,\n",
    "    #     silent = True,\n",
    "    #     allow_writing_files = False,\n",
    "    #     boosting_type = 'Plain',\n",
    "    #     leaf_estimation_iterations = 3,\n",
    "    #     ),\n",
    "    #     lags = 7,  # Ajusta según sea necesario\n",
    "    # )\n",
    "    model = CatBoostRegressor(\n",
    "        n_estimators=n_estimators,\n",
    "        max_depth=max_depth,\n",
    "        learning_rate=learning_rate,\n",
    "        random_state=123,\n",
    "        silent=True,\n",
    "        allow_writing_files=False\n",
    "    )\n",
    "    \n",
    "    model.fit(datos_train[exog_cols], datos_train['demanda'])\n",
    "    predictions = model.predict(datos_validacion[exog_cols])\n",
    "    mae = mean_absolute_error(datos_validacion['demanda'], predictions)\n",
    "    \n",
    "    return mae"
   ]
  },
  {
   "cell_type": "code",
   "execution_count": 29,
   "metadata": {},
   "outputs": [],
   "source": [
    "df_castboost_A = df_castboost[df_castboost['tipo_cajero'] == 'A'].copy()"
   ]
  },
  {
   "cell_type": "code",
   "execution_count": 30,
   "metadata": {},
   "outputs": [],
   "source": [
    "df_castboost_A = df_castboost_A.iloc[:1000, :]"
   ]
  },
  {
   "cell_type": "code",
   "execution_count": 31,
   "metadata": {},
   "outputs": [
    {
     "name": "stdout",
     "output_type": "stream",
     "text": [
      "Mejores hiperparámetros encontrados:\n",
      "n_estimators: 1000\n",
      "max_depth: 9\n",
      "learning_rate: 0.9196692646294439\n",
      "Mejor MAE: 154959.84782801228\n"
     ]
    }
   ],
   "source": [
    "exog_cols = ['special_days'] \n",
    "fin_validacion = int(len(df_castboost_A) * 0.8)  # División 80-20\n",
    "datos_train = df_castboost_A.iloc[:fin_validacion]\n",
    "datos_validacion = df_castboost_A.iloc[fin_validacion:]\n",
    "\n",
    "# Definir los límites de los hiperparámetros\n",
    "bounds = np.array([[100, 1000],  # n_estimators\n",
    "                   [3, 10],     # max_depth\n",
    "                   [0.01, 1]])  # learning_rate\n",
    "\n",
    "optimizer = IGAPSOSA(objective_function, bounds, num_particles=30, max_iterations=100)\n",
    "best_position, best_score = optimizer.optimize()\n",
    "\n",
    "print(\"Mejores hiperparámetros encontrados:\")\n",
    "print(\"n_estimators:\", int(best_position[0]))\n",
    "print(\"max_depth:\", int(best_position[1]))\n",
    "print(\"learning_rate:\", best_position[2])\n",
    "print(\"Mejor MAE:\", best_score)"
   ]
  }
 ],
 "metadata": {
  "kernelspec": {
   "display_name": "Forecasting",
   "language": "python",
   "name": "python3"
  },
  "language_info": {
   "codemirror_mode": {
    "name": "ipython",
    "version": 3
   },
   "file_extension": ".py",
   "mimetype": "text/x-python",
   "name": "python",
   "nbconvert_exporter": "python",
   "pygments_lexer": "ipython3",
   "version": "3.10.15"
  }
 },
 "nbformat": 4,
 "nbformat_minor": 2
}
